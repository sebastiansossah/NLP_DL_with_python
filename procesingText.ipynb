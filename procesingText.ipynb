{
 "cells": [
  {
   "attachments": {},
   "cell_type": "markdown",
   "metadata": {},
   "source": [
    "# NLP (Natural language processing )\n",
    "This is my first example of NLP, is composed of commentaries of movies, classified into two categories, negative and positive."
   ]
  },
  {
   "attachments": {},
   "cell_type": "markdown",
   "metadata": {},
   "source": [
    "## Importing the data"
   ]
  },
  {
   "cell_type": "code",
   "execution_count": 1,
   "metadata": {},
   "outputs": [
    {
     "name": "stdout",
     "output_type": "stream",
     "text": [
      "0_2.txt\n"
      "11112_9.txt\n",
      "11113_10.txt\n",
      "11114_8.txt\n",
      "11115_7.txt\n",
      "11116_10.txt\n",
      "11117_7.txt\n",
      "11118_1"
  
     ]
    }
   ],
   "source": [
    "import os \n",
    "\n",
    "imdb_dir = r'C:\\Users\\sebastian sossa\\Documents\\deepLearning\\text\\aclImdb'\n",
    "train_dir = os.path.join(imdb_dir, 'train')\n",
    "\n",
    "labels = []\n",
    "text = []\n",
    "\n",
    "for label_type in ['neg', 'pos']:\n",
    "    dir_name = os.path.join(train_dir, label_type)\n",
    "    for fname in os.listdir(dir_name):\n",
    "        print(fname)\n",
    "        if  fname[-4:] == '.txt':\n",
    "            f = open(os.path.join(dir_name, fname), 'r', encoding=\"utf-8\")\n",
    "            text.append(f.read())\n",
    "            f.close()\n",
    "\n",
    "            if label_type == 'neg':\n",
    "                labels.append(0)\n",
    "            else:\n",
    "                labels.append(1)\n",
    "\n"
   ]
  },
  {
   "cell_type": "code",
   "execution_count": 2,
   "metadata": {},
   "outputs": [
    {
     "name": "stdout",
     "output_type": "stream",
     "text": [
      "Once again Mr. Costner has dragged out a movie for far longer than necessary. Aside from the terrific sea rescue sequences, of which there are very few I just did not care about any of the characters. Most of us have ghosts in the closet, and Costner's character are realized early on, and then forgotten until much later, by which time I did not care. The character we should really care about is a very cocky, overconfident Ashton Kutcher. The problem is he comes off as kid who thinks he's better than anyone else around him and shows no signs of a cluttered closet. His only obstacle appears to be winning over Costner. Finally when we are well past the half way point of this stinker, Costner tells us all about Kutcher's ghosts. We are told why Kutcher is driven to be the best with no prior inkling or foreshadowing. No magic here, it was all I could do to keep from turning it off an hour in.\n"
     ]
    }
   ],
   "source": [
    "#Example of the first comentary\n",
    "print(text[0])"
   ]
  },
  {
   "attachments": {},
   "cell_type": "markdown",
   "metadata": {},
   "source": [
    "## Tokenizing the data \n",
    "In this case we going to use a pretrained wrord embedding, because this is more useful on problems where little training data is available"
   ]
  },
  {
   "cell_type": "code",
   "execution_count": 3,
   "metadata": {},
   "outputs": [],
   "source": [
    "from keras.preprocessing.text import Tokenizer\n",
    "from keras.utils import pad_sequences\n",
    "import numpy as np"
   ]
  },
  {
   "cell_type": "code",
   "execution_count": 4,
   "metadata": {},
   "outputs": [
    {
     "name": "stdout",
     "output_type": "stream",
     "text": [
      "Found 72633 unique tokens. \n",
      "Shape of data tensor:  (17243, 100)\n",
      "Shape of label tensor:  (17243,)\n"
     ]
    }
   ],
   "source": [
    "#Cuts off reviews after 100 words \n",
    "maxlen = 100\n",
    "\n",
    "#Trains on 200 samples \n",
    "training_samples = 200\n",
    "\n",
    "#Validates on 10.000 samples\n",
    "validation_samples= 10000\n",
    "\n",
    "#Consideres only the top 10.000 words in the dataset\n",
    "max_words = 10000\n",
    "\n",
    "tokenizer = Tokenizer(num_words=max_words)\n",
    "tokenizer.fit_on_texts(text)\n",
    "sequences = tokenizer.texts_to_sequences(text)\n",
    "\n",
    "word_index = tokenizer.word_index\n",
    "print('Found %s unique tokens. ' %len(word_index))\n",
    "\n",
    "data = pad_sequences(sequences, maxlen=maxlen)\n",
    "\n",
    "labels = np.asanyarray(labels)\n",
    "print('Shape of data tensor: ', data.shape)\n",
    "print('Shape of label tensor: ', labels.shape)\n",
    "\n",
    "#splits the data into a training set and a validation set, but first shuffles the data, because you are starting with data in wich samples are ordered \n",
    "#(all negative first, then all positive)\n",
    "indices = np.arange(data.shape[0])\n",
    "np.random.shuffle(indices)\n",
    "data = data[indices]\n",
    "labels = labels[indices]\n",
    "\n",
    "x_train = data[:training_samples]\n",
    "y_train = labels[:training_samples]\n",
    "x_val = data[training_samples: training_samples + validation_samples]\n",
    "y_val = labels[training_samples: training_samples + validation_samples]"
   ]
  },
  {
   "attachments": {},
   "cell_type": "markdown",
   "metadata": {},
   "source": [
    "Example of the first 10 letters, and how was tokenized"
   ]
  },
  {
   "cell_type": "code",
   "execution_count": 5,
   "metadata": {},
   "outputs": [
    {
     "name": "stdout",
     "output_type": "stream",
     "text": [
      "1 the\n",
      "2 a\n",
      "3 and\n",
      "4 of\n",
      "5 to\n",
      "6 br\n",
      "7 is\n",
      "8 in\n",
      "9 i\n",
      "10 it\n"
     ]
    }
   ],
   "source": [
    "# This is how letters of the datasets are decode\n",
    "mexe = 10\n",
    "counter = 0\n",
    "\n",
    "for i, keys in word_index.items():\n",
    "    if counter < mexe:\n",
    "        print(keys, i)\n",
    "        counter += 1\n",
    "\n",
    "    else:\n",
    "         break\n"
   ]
  },
  {
   "attachments": {},
   "cell_type": "markdown",
   "metadata": {},
   "source": [
    "## Using GloVe embeddings\n",
    "We install the GloVe precompured embedding, and we use it into our model ( it has 100-dimensional embedding vectors for 400.000 words)"
   ]
  },
  {
   "cell_type": "code",
   "execution_count": 6,
   "metadata": {},
   "outputs": [
    {
     "name": "stdout",
     "output_type": "stream",
     "text": [
      "Found 400000 word vectors.\n"
     ]
    }
   ],
   "source": [
    "glove_dir = r'C:\\Users\\sebastian sossa\\Documents\\deepLearning\\text\\glove'\n",
    "\n",
    "embeddings_index = {}\n",
    "\n",
    "f = open(os.path.join(glove_dir, 'glove.6B.100d.txt'), 'r', encoding=\"utf-8\")\n",
    "for line in f:\n",
    "    values = line.split()\n",
    "    word = values[0]\n",
    "    coefs = np.asarray(values[1:], dtype='float32')\n",
    "    embeddings_index[word] = coefs\n",
    "f.close()\n",
    "\n",
    "print('Found %s word vectors.' % len(embeddings_index))"
   ]
  },
  {
   "attachments": {},
   "cell_type": "markdown",
   "metadata": {},
   "source": [
    "Next we going to build an embedding matrix that you can load into an embedding layer"
   ]
  },
  {
   "cell_type": "code",
   "execution_count": 7,
   "metadata": {},
   "outputs": [
    {
     "name": "stdout",
     "output_type": "stream",
     "text": [
      "(10000, 100)\n"
     ]
    }
   ],
   "source": [
    "embedding_dim = 100\n",
    "embedding_matrix = np.zeros((max_words, embedding_dim))\n",
    "\n",
    "for word, i in word_index.items():\n",
    "    if i < max_words:\n",
    "        embedding_vector = embeddings_index.get(word)\n",
    "        if embedding_vector is not None:\n",
    "            embedding_matrix[i] = embedding_vector\n",
    "\n",
    "print(embedding_matrix.shape)"
   ]
  },
  {
   "attachments": {},
   "cell_type": "markdown",
   "metadata": {},
   "source": [
    "## Defining a model "
   ]
  },
  {
   "cell_type": "code",
   "execution_count": 8,
   "metadata": {},
   "outputs": [],
   "source": [
    "from keras.models import Sequential\n",
    "from keras.layers import Embedding, Flatten, Dense"
   ]
  },
  {
   "cell_type": "code",
   "execution_count": 9,
   "metadata": {},
   "outputs": [
    {
     "name": "stdout",
     "output_type": "stream",
     "text": [
      "Model: \"sequential\"\n",
      "_________________________________________________________________\n",
      " Layer (type)                Output Shape              Param #   \n",
      "=================================================================\n",
      " embedding (Embedding)       (None, 100, 100)          1000000   \n",
      "                                                                 \n",
      " flatten (Flatten)           (None, 10000)             0         \n",
      "                                                                 \n",
      " dense (Dense)               (None, 32)                320032    \n",
      "                                                                 \n",
      " dense_1 (Dense)             (None, 1)                 33        \n",
      "                                                                 \n",
      "=================================================================\n",
      "Total params: 1,320,065\n",
      "Trainable params: 1,320,065\n",
      "Non-trainable params: 0\n",
      "_________________________________________________________________\n"
     ]
    }
   ],
   "source": [
    "model = Sequential()\n",
    "model.add(Embedding(max_words, embedding_dim, input_length=maxlen))\n",
    "model.add(Flatten())\n",
    "model.add(Dense(32, activation='relu'))\n",
    "model.add(Dense(1, activation='sigmoid'))\n",
    "model.summary()"
   ]
  },
  {
   "attachments": {},
   "cell_type": "markdown",
   "metadata": {},
   "source": [
    "Next we going to load the GloVe embeddings in the model"
   ]
  },
  {
   "cell_type": "code",
   "execution_count": 10,
   "metadata": {},
   "outputs": [],
   "source": [
    "model.layers[0].set_weights([embedding_matrix])\n",
    "# This is to freeze the embedding layer (Not learn from  train)\n",
    "model.layers[0].trainable= False"
   ]
  },
  {
   "attachments": {},
   "cell_type": "markdown",
   "metadata": {},
   "source": [
    "## Training and evaluating\n",
    "Compile and train the model"
   ]
  },
  {
   "cell_type": "code",
   "execution_count": 11,
   "metadata": {},
   "outputs": [
    {
     "name": "stdout",
     "output_type": "stream",
     "text": [
      "Epoch 1/10\n",
      "7/7 [==============================] - 1s 138ms/step - loss: 1.5768 - acc: 0.6000 - val_loss: 0.6165 - val_acc: 0.7254\n",
      "Epoch 2/10\n",
      "7/7 [==============================] - 1s 116ms/step - loss: 0.4038 - acc: 0.8550 - val_loss: 0.9811 - val_acc: 0.3013\n",
      "Epoch 3/10\n",
      "7/7 [==============================] - 1s 143ms/step - loss: 0.2645 - acc: 0.8800 - val_loss: 0.6731 - val_acc: 0.7254\n",
      "Epoch 4/10\n",
      "7/7 [==============================] - 1s 116ms/step - loss: 0.1653 - acc: 0.9600 - val_loss: 0.6386 - val_acc: 0.6379\n",
      "Epoch 5/10\n",
      "7/7 [==============================] - 1s 110ms/step - loss: 0.1854 - acc: 0.9150 - val_loss: 1.4201 - val_acc: 0.7252\n",
      "Epoch 6/10\n",
      "7/7 [==============================] - 1s 110ms/step - loss: 0.1266 - acc: 0.9600 - val_loss: 0.7142 - val_acc: 0.7248\n",
      "Epoch 7/10\n",
      "7/7 [==============================] - 1s 114ms/step - loss: 0.0540 - acc: 1.0000 - val_loss: 0.6291 - val_acc: 0.6570\n",
      "Epoch 8/10\n",
      "7/7 [==============================] - 1s 124ms/step - loss: 0.0487 - acc: 1.0000 - val_loss: 1.0436 - val_acc: 0.7253\n",
      "Epoch 9/10\n",
      "7/7 [==============================] - 1s 117ms/step - loss: 0.0351 - acc: 1.0000 - val_loss: 0.9935 - val_acc: 0.7254\n",
      "Epoch 10/10\n",
      "7/7 [==============================] - 1s 115ms/step - loss: 0.0563 - acc: 0.9950 - val_loss: 1.4725 - val_acc: 0.7252\n"
     ]
    }
   ],
   "source": [
    "model.compile(optimizer='rmsprop',\n",
    "        loss='binary_crossentropy',\n",
    "        metrics=['acc'])\n",
    "\n",
    "history = model.fit(x_train, y_train,\n",
    "        epochs=10,\n",
    "        batch_size=32,\n",
    "        validation_data=(x_val, y_val))"
   ]
  },
  {
   "attachments": {},
   "cell_type": "markdown",
   "metadata": {},
   "source": [
    "## PLotting the accuracy and loss"
   ]
  },
  {
   "cell_type": "code",
   "execution_count": 12,
   "metadata": {},
   "outputs": [
    {
     "data": {
      "image/png": "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",
      "text/plain": [
       "<Figure size 432x288 with 1 Axes>"
      ]
     },
     "metadata": {
      "needs_background": "light"
     },
     "output_type": "display_data"
    },
    {
     "data": {
      "image/png": "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",
      "text/plain": [
       "<Figure size 432x288 with 1 Axes>"
      ]
     },
     "metadata": {
      "needs_background": "light"
     },
     "output_type": "display_data"
    }
   ],
   "source": [
    "import matplotlib.pyplot as plt\n",
    "\n",
    "acc = history.history['acc']\n",
    "val_acc = history.history['val_acc']\n",
    "loss = history.history['loss']\n",
    "val_loss = history.history['val_loss']\n",
    "\n",
    "epochs = range(1, len(acc) + 1)\n",
    "\n",
    "plt.plot(epochs, acc, 'bo', label='Training acc')\n",
    "plt.plot(epochs, val_acc, 'b', label='Validation acc')\n",
    "plt.title('Training and validation accuracy')\n",
    "plt.legend()\n",
    "plt.figure()\n",
    "plt.plot(epochs, loss, 'bo', label='Training loss')\n",
    "plt.plot(epochs, val_loss, 'b', label='Validation loss')\n",
    "plt.title('Training and validation loss')\n",
    "plt.legend()\n",
    "plt.show()"
   ]
  },
  {
   "attachments": {},
   "cell_type": "markdown",
   "metadata": {},
   "source": [
    "The model shows a clearli overfiting pattern, because the small number of training samples "
   ]
  },
  {
   "attachments": {},
   "cell_type": "markdown",
   "metadata": {},
   "source": [
    "## Training the same model without pretrained word embeddings\n"
   ]
  },
  {
   "cell_type": "code",
   "execution_count": 13,
   "metadata": {},
   "outputs": [
    {
     "name": "stdout",
     "output_type": "stream",
     "text": [
      "Model: \"sequential_1\"\n",
      "_________________________________________________________________\n",
      " Layer (type)                Output Shape              Param #   \n",
      "=================================================================\n",
      " embedding_1 (Embedding)     (None, 100, 100)          1000000   \n",
      "                                                                 \n",
      " flatten_1 (Flatten)         (None, 10000)             0         \n",
      "                                                                 \n",
      " dense_2 (Dense)             (None, 32)                320032    \n",
      "                                                                 \n",
      " dense_3 (Dense)             (None, 1)                 33        \n",
      "                                                                 \n",
      "=================================================================\n",
      "Total params: 1,320,065\n",
      "Trainable params: 1,320,065\n",
      "Non-trainable params: 0\n",
      "_________________________________________________________________\n",
      "Epoch 1/10\n",
      "7/7 [==============================] - 1s 134ms/step - loss: 0.6770 - acc: 0.6300 - val_loss: 0.6544 - val_acc: 0.7245\n",
      "Epoch 2/10\n",
      "7/7 [==============================] - 1s 118ms/step - loss: 0.5032 - acc: 0.8850 - val_loss: 0.5972 - val_acc: 0.7251\n",
      "Epoch 3/10\n",
      "7/7 [==============================] - 1s 121ms/step - loss: 0.3583 - acc: 0.8700 - val_loss: 0.5923 - val_acc: 0.7251\n",
      "Epoch 4/10\n",
      "7/7 [==============================] - 1s 123ms/step - loss: 0.2226 - acc: 0.9750 - val_loss: 0.5955 - val_acc: 0.7249\n",
      "Epoch 5/10\n",
      "7/7 [==============================] - 1s 124ms/step - loss: 0.1303 - acc: 0.9850 - val_loss: 0.5972 - val_acc: 0.7245\n",
      "Epoch 6/10\n",
      "7/7 [==============================] - 1s 125ms/step - loss: 0.0732 - acc: 1.0000 - val_loss: 0.6223 - val_acc: 0.7250\n",
      "Epoch 7/10\n",
      "7/7 [==============================] - 1s 121ms/step - loss: 0.0438 - acc: 1.0000 - val_loss: 0.6260 - val_acc: 0.7245\n",
      "Epoch 8/10\n",
      "7/7 [==============================] - 1s 124ms/step - loss: 0.0273 - acc: 1.0000 - val_loss: 0.6379 - val_acc: 0.7243\n",
      "Epoch 9/10\n",
      "7/7 [==============================] - 1s 118ms/step - loss: 0.0188 - acc: 1.0000 - val_loss: 0.6629 - val_acc: 0.7243\n",
      "Epoch 10/10\n",
      "7/7 [==============================] - 1s 117ms/step - loss: 0.0129 - acc: 1.0000 - val_loss: 0.6985 - val_acc: 0.7247\n"
     ]
    }
   ],
   "source": [
    "from keras.models import Sequential\n",
    "from keras.layers import Embedding, Flatten, Dense\n",
    "\n",
    "model = Sequential()\n",
    "model.add(Embedding(max_words, embedding_dim, input_length=maxlen))\n",
    "model.add(Flatten())\n",
    "model.add(Dense(32, activation='relu'))\n",
    "model.add(Dense(1, activation='sigmoid'))\n",
    "model.summary()\n",
    "model.compile(optimizer='rmsprop',\n",
    "        loss='binary_crossentropy',\n",
    "        metrics=['acc'])\n",
    "\n",
    "history = model.fit(x_train, y_train,\n",
    "        epochs=10,\n",
    "        batch_size=32,\n",
    "        validation_data=(x_val, y_val))"
   ]
  },
  {
   "cell_type": "code",
   "execution_count": 14,
   "metadata": {},
   "outputs": [
    {
     "data": {
      "image/png": "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",
      "text/plain": [
       "<Figure size 432x288 with 1 Axes>"
      ]
     },
     "metadata": {
      "needs_background": "light"
     },
     "output_type": "display_data"
    },
    {
     "data": {
      "image/png": "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",
      "text/plain": [
       "<Figure size 432x288 with 1 Axes>"
      ]
     },
     "metadata": {
      "needs_background": "light"
     },
     "output_type": "display_data"
    }
   ],
   "source": [
    "acc = history.history['acc']\n",
    "val_acc = history.history['val_acc']\n",
    "loss = history.history['loss']\n",
    "val_loss = history.history['val_loss']\n",
    "\n",
    "epochs = range(1, len(acc) + 1)\n",
    "\n",
    "plt.plot(epochs, acc, 'bo', label='Training acc')\n",
    "plt.plot(epochs, val_acc, 'b', label='Validation acc')\n",
    "plt.title('Training and validation accuracy')\n",
    "plt.legend()\n",
    "plt.figure()\n",
    "plt.plot(epochs, loss, 'bo', label='Training loss')\n",
    "plt.plot(epochs, val_loss, 'b', label='Validation loss')\n",
    "plt.title('Training and validation loss')\n",
    "plt.legend()\n",
    "plt.show()"
   ]
  }
 ],
 "metadata": {
  "kernelspec": {
   "display_name": "Python 3",
   "language": "python",
   "name": "python3"
  },
  "language_info": {
   "codemirror_mode": {
    "name": "ipython",
    "version": 3
   },
   "file_extension": ".py",
   "mimetype": "text/x-python",
   "name": "python",
   "nbconvert_exporter": "python",
   "pygments_lexer": "ipython3",
   "version": "3.10.4"
  },
  "orig_nbformat": 4,
  "vscode": {
   "interpreter": {
    "hash": "a434543c258c1c9102496c884c3f77871b790c96e067dcb3fc5e0c4555e4e75b"
   }
  }
 },
 "nbformat": 4,
 "nbformat_minor": 2
}
